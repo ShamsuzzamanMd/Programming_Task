{
 "cells": [
  {
   "cell_type": "code",
   "execution_count": 8,
   "metadata": {},
   "outputs": [],
   "source": [
    "class House:\n",
    "    pass\n",
    "#h= House()\n",
    "#print(h)"
   ]
  },
  {
   "cell_type": "code",
   "execution_count": 10,
   "metadata": {},
   "outputs": [
    {
     "name": "stdout",
     "output_type": "stream",
     "text": [
      "<__main__.House object at 0x0000019C86AFCBA8>\n"
     ]
    }
   ],
   "source": [
    "k=House()\n",
    "print(k)"
   ]
  },
  {
   "cell_type": "code",
   "execution_count": 11,
   "metadata": {},
   "outputs": [],
   "source": [
    "# Initializing a class"
   ]
  },
  {
   "cell_type": "code",
   "execution_count": 17,
   "metadata": {},
   "outputs": [
    {
     "name": "stdout",
     "output_type": "stream",
     "text": [
      "2\n",
      "This house is defined by having 100 square meters, 2 floors and location in turkey\n"
     ]
    }
   ],
   "source": [
    "class House:\n",
    "    def __init__(self,sqmeters,nfloors,location='New York'):\n",
    "        self.sqmeters= sqmeters\n",
    "        self.nfloors= nfloors\n",
    "        self.location= location\n",
    "        \n",
    "    def __repr__(self):\n",
    "        return f\"This house is defined by having {self.sqmeters} square meters, {self.nfloors} floors and location in {self.location}\"\n",
    "        \n",
    "h_ny= House(100,2)\n",
    "h_turkey= House(100,2,'turkey')\n",
    "    \n",
    "print (h_turkey.nfloors)\n",
    "print(h_turkey)"
   ]
  },
  {
   "cell_type": "code",
   "execution_count": 22,
   "metadata": {},
   "outputs": [
    {
     "name": "stdout",
     "output_type": "stream",
     "text": [
      "Help on House in module __main__ object:\n",
      "\n",
      "class House(builtins.object)\n",
      " |  House(sqmeters, nfloors, location='New York')\n",
      " |  \n",
      " |  Methods defined here:\n",
      " |  \n",
      " |  __init__(self, sqmeters, nfloors, location='New York')\n",
      " |      Initialize self.  See help(type(self)) for accurate signature.\n",
      " |  \n",
      " |  __repr__(self)\n",
      " |      Return repr(self).\n",
      " |  \n",
      " |  ----------------------------------------------------------------------\n",
      " |  Data descriptors defined here:\n",
      " |  \n",
      " |  __dict__\n",
      " |      dictionary for instance variables (if defined)\n",
      " |  \n",
      " |  __weakref__\n",
      " |      list of weak references to the object (if defined)\n",
      "\n"
     ]
    }
   ],
   "source": [
    "help(h_ny)"
   ]
  },
  {
   "cell_type": "code",
   "execution_count": 1,
   "metadata": {},
   "outputs": [
    {
     "name": "stdout",
     "output_type": "stream",
     "text": [
      "decorator is initialized here with .__init ()\n",
      "inside a Function()\n",
      "function is called in the decorator's __init method (constructor)\n"
     ]
    }
   ],
   "source": [
    "# decorator function\n",
    "class my_decorator (object):\n",
    "    \n",
    "    def __init__(self, f):\n",
    "        print (\"decorator is initialized here with .__init ()\")\n",
    "        f()\n",
    "        print (\"function is called in the decorator's __init method (constructor)\")\n",
    "    def __call__(self):\n",
    "        print (\"inside my_decorator .__call__()\")\n",
    "\n",
    "@my_decorator\n",
    "def some_fun():\n",
    "    print(\"inside a Function()\")"
   ]
  },
  {
   "cell_type": "code",
   "execution_count": 2,
   "metadata": {},
   "outputs": [
    {
     "name": "stdout",
     "output_type": "stream",
     "text": [
      "inside my_decorator .__call__()\n"
     ]
    }
   ],
   "source": [
    "some_fun()"
   ]
  },
  {
   "cell_type": "code",
   "execution_count": 6,
   "metadata": {},
   "outputs": [
    {
     "data": {
      "text/plain": [
       "(4, 8)"
      ]
     },
     "execution_count": 6,
     "metadata": {},
     "output_type": "execute_result"
    }
   ],
   "source": [
    "#Generic way of Decorating In Practice\n",
    "\n",
    "from functools import wraps\n",
    "\n",
    "def add_1(fun):\n",
    "    @wraps(fun)\n",
    "    def wrapper(*args,**kwargs):\n",
    "        output= 1+fun(*args,**kwargs)\n",
    "        output_2= output*2\n",
    "        return output,output_2\n",
    "    return wrapper\n",
    "@add_1\n",
    "def pun (*args):\n",
    "    return sum (*args)\n",
    "pun([1,2])\n",
    "    \n",
    "    "
   ]
  },
  {
   "cell_type": "code",
   "execution_count": 14,
   "metadata": {},
   "outputs": [
    {
     "name": "stdout",
     "output_type": "stream",
     "text": [
      "2\n"
     ]
    }
   ],
   "source": [
    "class people:\n",
    "    guest_list=0\n",
    "    def __init__(self,name,gender,age):\n",
    "        self.name=name\n",
    "        self.gender=gender\n",
    "        self.age=age\n",
    "        people.guest_list+=1\n",
    "        \n",
    "#print(people.guest_list)\n",
    "tim= people('tim','male',14)\n",
    "kati= people('kati','female',23)\n",
    "print(people.guest_list)"
   ]
  },
  {
   "cell_type": "code",
   "execution_count": 22,
   "metadata": {},
   "outputs": [
    {
     "name": "stdout",
     "output_type": "stream",
     "text": [
      "Current club visitor is Visitor kim of sex female and 18 of age\n"
     ]
    },
    {
     "ename": "ValueError",
     "evalue": "liz is not in guest list",
     "output_type": "error",
     "traceback": [
      "\u001b[1;31m---------------------------------------------------------------------------\u001b[0m",
      "\u001b[1;31mValueError\u001b[0m                                Traceback (most recent call last)",
      "\u001b[1;32m<ipython-input-22-dea603698c8e>\u001b[0m in \u001b[0;36m<module>\u001b[1;34m()\u001b[0m\n\u001b[0;32m     18\u001b[0m \u001b[0mkim\u001b[0m\u001b[1;33m=\u001b[0m\u001b[0mclub_visitors\u001b[0m\u001b[1;33m(\u001b[0m\u001b[1;34m'kim'\u001b[0m\u001b[1;33m,\u001b[0m \u001b[1;34m'female'\u001b[0m\u001b[1;33m)\u001b[0m\u001b[1;33m\u001b[0m\u001b[0m\n\u001b[0;32m     19\u001b[0m \u001b[0mprint\u001b[0m\u001b[1;33m(\u001b[0m\u001b[0mkim\u001b[0m\u001b[1;33m)\u001b[0m\u001b[1;33m\u001b[0m\u001b[0m\n\u001b[1;32m---> 20\u001b[1;33m \u001b[0mliz\u001b[0m\u001b[1;33m=\u001b[0m \u001b[0mclub_visitors\u001b[0m\u001b[1;33m(\u001b[0m\u001b[1;34m'liz'\u001b[0m\u001b[1;33m,\u001b[0m \u001b[1;34m'male'\u001b[0m\u001b[1;33m)\u001b[0m\u001b[1;33m\u001b[0m\u001b[0m\n\u001b[0m\u001b[0;32m     21\u001b[0m \u001b[0mprint\u001b[0m\u001b[1;33m(\u001b[0m\u001b[0mliz\u001b[0m\u001b[1;33m)\u001b[0m\u001b[1;33m\u001b[0m\u001b[0m\n",
      "\u001b[1;32m<ipython-input-22-dea603698c8e>\u001b[0m in \u001b[0;36m__init__\u001b[1;34m(self, name, gender, age)\u001b[0m\n\u001b[0;32m      4\u001b[0m     \u001b[1;32mdef\u001b[0m \u001b[0m__init__\u001b[0m\u001b[1;33m(\u001b[0m\u001b[0mself\u001b[0m\u001b[1;33m,\u001b[0m\u001b[0mname\u001b[0m\u001b[1;33m,\u001b[0m\u001b[0mgender\u001b[0m\u001b[1;33m,\u001b[0m\u001b[0mage\u001b[0m\u001b[1;33m=\u001b[0m\u001b[1;36m18\u001b[0m\u001b[1;33m)\u001b[0m\u001b[1;33m:\u001b[0m\u001b[1;33m\u001b[0m\u001b[0m\n\u001b[0;32m      5\u001b[0m         \u001b[1;32mif\u001b[0m \u001b[0mname\u001b[0m \u001b[1;32mnot\u001b[0m \u001b[1;32min\u001b[0m \u001b[0mclub_visitors\u001b[0m\u001b[1;33m.\u001b[0m\u001b[0mpast_visitors\u001b[0m\u001b[1;33m:\u001b[0m\u001b[1;33m\u001b[0m\u001b[0m\n\u001b[1;32m----> 6\u001b[1;33m             \u001b[1;32mraise\u001b[0m \u001b[0mValueError\u001b[0m\u001b[1;33m(\u001b[0m\u001b[1;34mf\"{name} is not in guest list\"\u001b[0m\u001b[1;33m)\u001b[0m\u001b[1;33m\u001b[0m\u001b[0m\n\u001b[0m\u001b[0;32m      7\u001b[0m \u001b[1;33m\u001b[0m\u001b[0m\n\u001b[0;32m      8\u001b[0m         \u001b[0mself\u001b[0m\u001b[1;33m.\u001b[0m\u001b[0mname\u001b[0m\u001b[1;33m=\u001b[0m\u001b[0mname\u001b[0m\u001b[1;33m\u001b[0m\u001b[0m\n",
      "\u001b[1;31mValueError\u001b[0m: liz is not in guest list"
     ]
    }
   ],
   "source": [
    "class club_visitors:\n",
    "    past_visitors=['kim','dev','ila','timo','nikola','alari','kati']\n",
    "    \n",
    "    def __init__(self,name,gender,age=18):\n",
    "        if name not in club_visitors.past_visitors:\n",
    "            raise ValueError(f\"{name} is not in guest list\")\n",
    "            \n",
    "        self.name=name\n",
    "        self.gender= gender\n",
    "        self.age= age\n",
    "    @property\n",
    "    def visitor(self):\n",
    "        return f\"Visitor {self.name} of sex {self.gender} and {self.age} of age\"\n",
    "    \n",
    "    def __repr__(self):\n",
    "        return f\"Current club visitor is {self.visitor}\"\n",
    "\n",
    "kim=club_visitors('kim', 'female')\n",
    "print(kim)\n",
    "liz= club_visitors('liz', 'male')\n",
    "print(liz)"
   ]
  },
  {
   "cell_type": "code",
   "execution_count": 27,
   "metadata": {},
   "outputs": [
    {
     "name": "stdout",
     "output_type": "stream",
     "text": [
      "you have sent 1 mails\n",
      "you have recived 2 mails\n"
     ]
    }
   ],
   "source": [
    "# Instancre method\n",
    "class mail:\n",
    "    def __init__(self):\n",
    "        self.inbox=0\n",
    "        self.sent=0\n",
    "        \n",
    "    def send_mail(self,num=1):\n",
    "        self.sent+=num\n",
    "        print(f\"you have sent {self.sent} mails\")\n",
    "    def recive_mail(self,num=1):\n",
    "        self.inbox+=num\n",
    "        print(f\"you have recived {self.inbox} mails\")\n",
    "email1=mail()\n",
    "email1.send_mail()\n",
    "email1.recive_mail(2)\n",
    "              "
   ]
  },
  {
   "cell_type": "code",
   "execution_count": 28,
   "metadata": {},
   "outputs": [
    {
     "name": "stdout",
     "output_type": "stream",
     "text": [
      "1\n",
      "you have sent 4 mails\n",
      "4\n"
     ]
    }
   ],
   "source": [
    "print(email1.sent)\n",
    "email1.send_mail(3)\n",
    "print(email1.sent)"
   ]
  },
  {
   "cell_type": "code",
   "execution_count": 29,
   "metadata": {},
   "outputs": [],
   "source": [
    "class Mail:\n",
    "    def __init__(self):\n",
    "        self._inbox=0\n",
    "        self._sent=0\n",
    "        self._not_recommended_getter_var = 0\n",
    "        \n",
    "    @property\n",
    "    def sent(self):\n",
    "        return self._sent\n",
    "    \n",
    "    def not_recommended_getter(self):\n",
    "        return self._not_recommended_getter_var\n",
    "    \n",
    "    def send_mail(self, num=1):\n",
    "        self._sent+=num\n",
    "        print(f\"Message sent! You have {self.sent} mails in Sent.\")\n",
    "    def receive_mail(self, num=1):\n",
    "        self._inbox+=num\n",
    "        print(f\"New email! You have {self._inbox} emails.\")"
   ]
  },
  {
   "cell_type": "code",
   "execution_count": 44,
   "metadata": {},
   "outputs": [
    {
     "name": "stdout",
     "output_type": "stream",
     "text": [
      "Message sent! You have 1 mails in Sent.\n"
     ]
    }
   ],
   "source": [
    "email= Mail()\n",
    "email.send_mail()\n",
    "#email.recive_Mail(2)\n",
    "b= email.sent"
   ]
  },
  {
   "cell_type": "code",
   "execution_count": 46,
   "metadata": {},
   "outputs": [
    {
     "ename": "AttributeError",
     "evalue": "can't set attribute",
     "output_type": "error",
     "traceback": [
      "\u001b[1;31m---------------------------------------------------------------------------\u001b[0m",
      "\u001b[1;31mAttributeError\u001b[0m                            Traceback (most recent call last)",
      "\u001b[1;32m<ipython-input-46-752af766fa3f>\u001b[0m in \u001b[0;36m<module>\u001b[1;34m()\u001b[0m\n\u001b[1;32m----> 1\u001b[1;33m \u001b[0memail\u001b[0m\u001b[1;33m.\u001b[0m\u001b[0msent\u001b[0m\u001b[1;33m=\u001b[0m\u001b[1;36m2\u001b[0m\u001b[1;33m\u001b[0m\u001b[0m\n\u001b[0m\u001b[0;32m      2\u001b[0m \u001b[0memail\u001b[0m\u001b[1;33m.\u001b[0m\u001b[0msent\u001b[0m\u001b[1;33m\u001b[0m\u001b[0m\n",
      "\u001b[1;31mAttributeError\u001b[0m: can't set attribute"
     ]
    }
   ],
   "source": [
    "email.sent=2\n",
    "email.sent"
   ]
  },
  {
   "cell_type": "code",
   "execution_count": 50,
   "metadata": {},
   "outputs": [
    {
     "data": {
      "text/plain": [
       "3"
      ]
     },
     "execution_count": 50,
     "metadata": {},
     "output_type": "execute_result"
    }
   ],
   "source": [
    "email._not_recommended_getter_var = 3\n",
    "email._not_recommended_getter_var"
   ]
  },
  {
   "cell_type": "code",
   "execution_count": 71,
   "metadata": {},
   "outputs": [],
   "source": [
    "class employee:\n",
    "    def __init__(self):\n",
    "        self.rank=0\n",
    "        self._pay=10000\n",
    "        self._not_recommended_getter_var = 0\n",
    "        \n",
    "    @property\n",
    "    def pay(self):\n",
    "        return self._inbox\n",
    "    \n",
    "    @inbox.setter\n",
    "    def pay(self,val):\n",
    "        if val <= 0:\n",
    "            self._pay = val\n",
    "        else :\n",
    "            print(\"Please  count to a non-negative number!\")\n",
    "    \n",
    "    def not_recommended_getter(self):\n",
    "        return self._not_recommended_getter_var\n",
    "    \n",
    "    def send_mail(self, num=1):\n",
    "        self._sent+=num\n",
    "        print(f\"Message sent! You have {self._sent} mails in Sent.\")\n",
    "    def receive_mail(self, num=1):\n",
    "        self._inbox+=num\n",
    "        print(f\"New email! You have {self._inbox} emails.\")"
   ]
  },
  {
   "cell_type": "code",
   "execution_count": 74,
   "metadata": {},
   "outputs": [
    {
     "name": "stdout",
     "output_type": "stream",
     "text": [
      "Message sent! You have 1 mails in Sent.\n",
      "New email! You have 2 emails.\n"
     ]
    }
   ],
   "source": [
    "email= Mail()\n",
    "email.send_mail(1)\n",
    "email.receive_mail(2)\n",
    "#b= email.sent"
   ]
  },
  {
   "cell_type": "code",
   "execution_count": 66,
   "metadata": {},
   "outputs": [
    {
     "name": "stdout",
     "output_type": "stream",
     "text": [
      "Message sent! You have 0 mails in Sent.\n",
      "New email! You have 3 emails received\n",
      "Current state is 0 sent mails and 3 received mails\n"
     ]
    },
    {
     "data": {
      "text/plain": [
       "Current state is 0 sent mails and 3 received mails"
      ]
     },
     "execution_count": 66,
     "metadata": {},
     "output_type": "execute_result"
    }
   ],
   "source": [
    "# static method\n",
    "class Mail:\n",
    "    sent_amount = 0\n",
    "    received_amount = 0\n",
    "    \n",
    "    def __init__(cls):\n",
    "        print(cls)\n",
    "     \n",
    "    @staticmethod\n",
    "    def send_mail_static(sent_amount=0):\n",
    "        \n",
    "        Mail.sent_amount += sent_amount\n",
    "        print(f\"Message sent! You have {Mail.sent_amount} mails in Sent.\")\n",
    "        \n",
    "    @staticmethod\n",
    "    def receive_mail_static(received_amount=0):\n",
    "        Mail.received_amount += received_amount\n",
    "        print(f\"New email! You have {Mail.received_amount} emails received\")\n",
    "        \n",
    "    def __repr__(cls):\n",
    "        return f\"Current state is {cls.sent_amount} sent mails and {cls.received_amount} received mails\"\n",
    "Mail.send_mail_static()        \n",
    "Mail.receive_mail_static(3)\n",
    "Mail()\n",
    "#print(\"Thats wrong obviously!\")"
   ]
  },
  {
   "cell_type": "code",
   "execution_count": 81,
   "metadata": {},
   "outputs": [
    {
     "name": "stdout",
     "output_type": "stream",
     "text": [
      "this is coca-cola drink\n",
      "the drink types softdrinks\n"
     ]
    }
   ],
   "source": [
    "#_method\n",
    "class drink:\n",
    "    def __init__( self,name, drinktype):\n",
    "        self._name= name\n",
    "        self._type= drinktype\n",
    "    def __repr__(self)  :\n",
    "        return(f\"this is {self._name} drink\")\n",
    "    @property\n",
    "    def _drinktype(self):\n",
    "        print (f\"the drink types {self._type}\")\n",
    "        \n",
    "        \n",
    "d= drink('coca-cola', 'softdrinks')\n",
    "print(d)\n",
    "d._drinktype"
   ]
  },
  {
   "cell_type": "code",
   "execution_count": 93,
   "metadata": {},
   "outputs": [],
   "source": [
    "# __method\n",
    "class oscarparty:\n",
    "    def __init__(self,name,profession):\n",
    "        self.__name= name\n",
    "        self.__profession= profession\n",
    "    #def __prof(self):\n",
    "        #return(f\"'{self.__nam}, {self.profession} by profession has just arrived to the Oscar\")\n",
    "class grammyparty:\n",
    "    def __init__(self, name, num_song):\n",
    "        self.__name=name\n",
    "        self.__num_song=num_song\n",
    "g1= oscarparty('Lady Gaga', 'singer/actress')\n",
    "g2=oscarparty('Ar', 'actress')\n",
    "g3=grammyparty('Ar',65)\n",
    "g4=grammyparty('gt',18)\n",
    "        "
   ]
  },
  {
   "cell_type": "code",
   "execution_count": 94,
   "metadata": {},
   "outputs": [
    {
     "name": "stdout",
     "output_type": "stream",
     "text": [
      "Lady Gaga\n",
      "18\n"
     ]
    }
   ],
   "source": [
    "print(g1._oscarparty__name)\n",
    "print(g4._grammyparty__num_song)"
   ]
  },
  {
   "cell_type": "code",
   "execution_count": 103,
   "metadata": {},
   "outputs": [
    {
     "name": "stdout",
     "output_type": "stream",
     "text": [
      "3\n",
      "gass\n",
      "False\n",
      "True\n",
      "True\n"
     ]
    }
   ],
   "source": [
    "# Inheritance\n",
    "class chemical:\n",
    "    def __init__(self,name, atoms_per_mol):\n",
    "        self.name=name\n",
    "        self.atom=atoms_per_mol\n",
    "class liquid(chemical):\n",
    "    pass\n",
    "H2O= liquid('water',3)\n",
    "co2=chemical('gass',4)\n",
    "print(H2O.atom)\n",
    "print(co2.name)\n",
    "print(isinstance(co2,liquid))\n",
    "print(isinstance(H2O,chemical))\n",
    "print(isinstance(H2O,liquid))"
   ]
  },
  {
   "cell_type": "code",
   "execution_count": 100,
   "metadata": {},
   "outputs": [
    {
     "name": "stdout",
     "output_type": "stream",
     "text": [
      "True means that liquid is a subclass of matter : \n",
      "True\n",
      "false means that chemical is not a subclass of liquid :\n",
      "False\n"
     ]
    }
   ],
   "source": [
    "print(f\"True means that liquid is a subclass of matter : \\n{issubclass(liquid,chemical)}\")\n",
    "print(f\"false means that chemical is not a subclass of liquid :\\n{issubclass(chemical,liquid)}\")"
   ]
  },
  {
   "cell_type": "code",
   "execution_count": 107,
   "metadata": {},
   "outputs": [
    {
     "name": "stdout",
     "output_type": "stream",
     "text": [
      "calling action is three\n",
      "calling action is 2\n",
      "Help on class three in module __main__:\n",
      "\n",
      "class three(two, one)\n",
      " |  Method resolution order:\n",
      " |      three\n",
      " |      two\n",
      " |      one\n",
      " |      builtins.object\n",
      " |  \n",
      " |  Methods defined here:\n",
      " |  \n",
      " |  action(self)\n",
      " |  \n",
      " |  ----------------------------------------------------------------------\n",
      " |  Data descriptors inherited from one:\n",
      " |  \n",
      " |  __dict__\n",
      " |      dictionary for instance variables (if defined)\n",
      " |  \n",
      " |  __weakref__\n",
      " |      list of weak references to the object (if defined)\n",
      "\n"
     ]
    }
   ],
   "source": [
    "# super()\n",
    "class one:\n",
    "    def action(self):\n",
    "        print (\"calling action in one\")\n",
    "        \n",
    "class two(one):\n",
    "    def action(self):\n",
    "        print(\"calling action is 2\")\n",
    "class three(two,one):\n",
    "    def action(self):\n",
    "        print(\"calling action is three\")\n",
    "        super().action()\n",
    "number=three()\n",
    "number.action()\n",
    "help(three)"
   ]
  },
  {
   "cell_type": "code",
   "execution_count": 109,
   "metadata": {},
   "outputs": [
    {
     "name": "stdout",
     "output_type": "stream",
     "text": [
      "guest1: kati\n",
      "guest2: Lee\n",
      "guest3: suzi\n"
     ]
    }
   ],
   "source": [
    "# *args\n",
    "def guest_list(*args):\n",
    "    for i , guest in enumerate(args):\n",
    "        print(f\"guest{i+1}:\", guest)\n",
    "args=['kati','Lee','suzi']\n",
    "guest_list(*args)"
   ]
  },
  {
   "cell_type": "code",
   "execution_count": 111,
   "metadata": {},
   "outputs": [
    {
     "name": "stdout",
     "output_type": "stream",
     "text": [
      "guest: pam, relation to the host sister\n",
      "guest: lee, relation to the host wife\n"
     ]
    }
   ],
   "source": [
    "def guest_list(**kwargs):\n",
    "    for guest, relation in kwargs.items():\n",
    "        print(f\"guest: {guest}, relation to the host {relation}\")\n",
    "kwargs= {'pam':'sister', 'lee':'wife'}\n",
    "guest_list(**kwargs)"
   ]
  },
  {
   "cell_type": "code",
   "execution_count": 1,
   "metadata": {},
   "outputs": [],
   "source": [
    "def moon(self,moon_name):\n",
    "    self.MName =moon_name\n",
    "\n",
    "#but here cls method its use is different \n",
    "\n",
    "\n",
    "def moon(cls,moon_name):\n",
    "    instance=cls()\n",
    "    instance.MName=moon_name"
   ]
  },
  {
   "cell_type": "code",
   "execution_count": 3,
   "metadata": {},
   "outputs": [],
   "source": [
    "class Foo(object):\n",
    "    def __new__(cls, *args, **kwargs):\n",
    "        print (\"Creating Instance\")\n",
    "        instance = super(Foo, cls).__new__(cls, *args, **kwargs)\n",
    "        return instance\n",
    " \n",
    "    def __init__(self, a, b):\n",
    "        self.a = a\n",
    "        self.b = b\n",
    " \n",
    "    def bar(self):\n",
    "        pass"
   ]
  },
  {
   "cell_type": "code",
   "execution_count": 4,
   "metadata": {},
   "outputs": [
    {
     "name": "stdout",
     "output_type": "stream",
     "text": [
      "Creating Instance\n"
     ]
    },
    {
     "ename": "TypeError",
     "evalue": "object.__new__() takes no arguments",
     "output_type": "error",
     "traceback": [
      "\u001b[1;31m---------------------------------------------------------------------------\u001b[0m",
      "\u001b[1;31mTypeError\u001b[0m                                 Traceback (most recent call last)",
      "\u001b[1;32m<ipython-input-4-27f6118355ba>\u001b[0m in \u001b[0;36m<module>\u001b[1;34m()\u001b[0m\n\u001b[1;32m----> 1\u001b[1;33m \u001b[0mi\u001b[0m\u001b[1;33m=\u001b[0m\u001b[0mFoo\u001b[0m\u001b[1;33m(\u001b[0m\u001b[1;36m2\u001b[0m\u001b[1;33m,\u001b[0m\u001b[1;36m3\u001b[0m\u001b[1;33m)\u001b[0m\u001b[1;33m\u001b[0m\u001b[0m\n\u001b[0m",
      "\u001b[1;32m<ipython-input-3-c6975158be00>\u001b[0m in \u001b[0;36m__new__\u001b[1;34m(cls, *args, **kwargs)\u001b[0m\n\u001b[0;32m      2\u001b[0m     \u001b[1;32mdef\u001b[0m \u001b[0m__new__\u001b[0m\u001b[1;33m(\u001b[0m\u001b[0mcls\u001b[0m\u001b[1;33m,\u001b[0m \u001b[1;33m*\u001b[0m\u001b[0margs\u001b[0m\u001b[1;33m,\u001b[0m \u001b[1;33m**\u001b[0m\u001b[0mkwargs\u001b[0m\u001b[1;33m)\u001b[0m\u001b[1;33m:\u001b[0m\u001b[1;33m\u001b[0m\u001b[0m\n\u001b[0;32m      3\u001b[0m         \u001b[0mprint\u001b[0m \u001b[1;33m(\u001b[0m\u001b[1;34m\"Creating Instance\"\u001b[0m\u001b[1;33m)\u001b[0m\u001b[1;33m\u001b[0m\u001b[0m\n\u001b[1;32m----> 4\u001b[1;33m         \u001b[0minstance\u001b[0m \u001b[1;33m=\u001b[0m \u001b[0msuper\u001b[0m\u001b[1;33m(\u001b[0m\u001b[0mFoo\u001b[0m\u001b[1;33m,\u001b[0m \u001b[0mcls\u001b[0m\u001b[1;33m)\u001b[0m\u001b[1;33m.\u001b[0m\u001b[0m__new__\u001b[0m\u001b[1;33m(\u001b[0m\u001b[0mcls\u001b[0m\u001b[1;33m,\u001b[0m \u001b[1;33m*\u001b[0m\u001b[0margs\u001b[0m\u001b[1;33m,\u001b[0m \u001b[1;33m**\u001b[0m\u001b[0mkwargs\u001b[0m\u001b[1;33m)\u001b[0m\u001b[1;33m\u001b[0m\u001b[0m\n\u001b[0m\u001b[0;32m      5\u001b[0m         \u001b[1;32mreturn\u001b[0m \u001b[0minstance\u001b[0m\u001b[1;33m\u001b[0m\u001b[0m\n\u001b[0;32m      6\u001b[0m \u001b[1;33m\u001b[0m\u001b[0m\n",
      "\u001b[1;31mTypeError\u001b[0m: object.__new__() takes no arguments"
     ]
    }
   ],
   "source": [
    "i=Foo(2,3)"
   ]
  },
  {
   "cell_type": "code",
   "execution_count": 20,
   "metadata": {},
   "outputs": [],
   "source": [
    "class employee:\n",
    "    def __init__(self):\n",
    "        #self.rank=rank\n",
    "        self.pay=pay\n",
    "        #self._not_recommended_getter_var = 0\n",
    "        \n",
    "    @property\n",
    "    def pay(self):\n",
    "        return self._pay\n",
    "    \n",
    "    @pay.setter\n",
    "    def pay(self,val):\n",
    "        if val > 0:\n",
    "            self._pay = val\n",
    "        else :\n",
    "            print(\"  count to a non-negative number!\")\n",
    "    \n"
   ]
  },
  {
   "cell_type": "code",
   "execution_count": 21,
   "metadata": {},
   "outputs": [
    {
     "ename": "TypeError",
     "evalue": "__init__() takes 1 positional argument but 2 were given",
     "output_type": "error",
     "traceback": [
      "\u001b[1;31m---------------------------------------------------------------------------\u001b[0m",
      "\u001b[1;31mTypeError\u001b[0m                                 Traceback (most recent call last)",
      "\u001b[1;32m<ipython-input-21-956ba85168e7>\u001b[0m in \u001b[0;36m<module>\u001b[1;34m()\u001b[0m\n\u001b[1;32m----> 1\u001b[1;33m \u001b[0ma1\u001b[0m\u001b[1;33m=\u001b[0m \u001b[0memployee\u001b[0m\u001b[1;33m(\u001b[0m\u001b[1;33m-\u001b[0m\u001b[1;36m10\u001b[0m\u001b[1;33m)\u001b[0m\u001b[1;33m\u001b[0m\u001b[0m\n\u001b[0m\u001b[0;32m      2\u001b[0m \u001b[0ma1\u001b[0m\u001b[1;33m.\u001b[0m\u001b[0mpay\u001b[0m\u001b[1;33m\u001b[0m\u001b[0m\n",
      "\u001b[1;31mTypeError\u001b[0m: __init__() takes 1 positional argument but 2 were given"
     ]
    }
   ],
   "source": [
    "a1= employee(-10)\n",
    "a1.pay"
   ]
  },
  {
   "cell_type": "code",
   "execution_count": null,
   "metadata": {},
   "outputs": [],
   "source": []
  }
 ],
 "metadata": {
  "kernelspec": {
   "display_name": "Python 3",
   "language": "python",
   "name": "python3"
  },
  "language_info": {
   "codemirror_mode": {
    "name": "ipython",
    "version": 3
   },
   "file_extension": ".py",
   "mimetype": "text/x-python",
   "name": "python",
   "nbconvert_exporter": "python",
   "pygments_lexer": "ipython3",
   "version": "3.7.0"
  }
 },
 "nbformat": 4,
 "nbformat_minor": 2
}
