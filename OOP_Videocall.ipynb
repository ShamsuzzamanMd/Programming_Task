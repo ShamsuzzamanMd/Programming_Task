{
 "cells": [
  {
   "cell_type": "code",
   "execution_count": 1,
   "metadata": {},
   "outputs": [],
   "source": [
    "class videoApp():\n",
    "    participants_online=0\n",
    "    action=['speaking','list']\n",
    "    \n",
    "    def __init__(self,user_name,company):\n",
    "        self.u_name= user_name\n",
    "        self.company=company\n",
    "    @classmethod\n",
    "    def participation_online(cls):\n",
    "        return f\"participants are attending the meeting {cls.participants_online}\"\n",
    "    def go_online(self):\n",
    "        self.participants_online+=1\n",
    "        print (f\" you have {self.participants} participants.\")\n",
    "    def go_ofline(self):\n",
    "        self.participants_online -=1\n",
    "        return self.participants_online\n",
    "    def status (self,action):\n",
    "        if action not in videoApp.action:\n",
    "            raise ValueError (\"The user must be speaking or silent\")\n",
    "        return f\"{self.u_name} is {action}\"\n",
    "    "
   ]
  },
  {
   "cell_type": "code",
   "execution_count": 2,
   "metadata": {},
   "outputs": [],
   "source": [
    "p1=videoApp('lee','eficode')"
   ]
  },
  {
   "cell_type": "code",
   "execution_count": 3,
   "metadata": {},
   "outputs": [
    {
     "data": {
      "text/plain": [
       "'lee is speaking'"
      ]
     },
     "execution_count": 3,
     "metadata": {},
     "output_type": "execute_result"
    }
   ],
   "source": [
    "p1.go_online\n",
    "p1.status('speaking')"
   ]
  },
  {
   "cell_type": "code",
   "execution_count": 4,
   "metadata": {},
   "outputs": [
    {
     "name": "stdout",
     "output_type": "stream",
     "text": [
      "<bound method videoApp.go_online of <__main__.videoApp object at 0x000002546B9DAB38>>\n"
     ]
    }
   ],
   "source": [
    "print(p1.go_online)"
   ]
  },
  {
   "cell_type": "code",
   "execution_count": 5,
   "metadata": {},
   "outputs": [],
   "source": [
    "class Message:\n",
    "    def __init__(self,user_name,message):\n",
    "        self.__u_name=user_name\n",
    "        self.__message=message\n",
    "    def __status(self):\n",
    "        return f\"{self.__u_name} sent the message: {self.__message}\"\n"
   ]
  },
  {
   "cell_type": "code",
   "execution_count": 7,
   "metadata": {},
   "outputs": [
    {
     "data": {
      "text/plain": [
       "'Hari sent the message: Good Day.'"
      ]
     },
     "execution_count": 7,
     "metadata": {},
     "output_type": "execute_result"
    }
   ],
   "source": [
    "p2=Message('Hari', 'Welcome to my home.')\n",
    "p2._Message__status()"
   ]
  },
  {
   "cell_type": "code",
   "execution_count": 8,
   "metadata": {},
   "outputs": [],
   "source": [
    "class ChatApp(videoApp,Message):\n",
    "    def __init__(self,user_name,company,message):\n",
    "        \n",
    "        videoApp.__init__(self,user_name,company)\n",
    "        Message.__init__(self,user_name,message)\n",
    "        \n",
    "        #super().__init__(user_name=user_name,company=company,message=message)"
   ]
  },
  {
   "cell_type": "code",
   "execution_count": 10,
   "metadata": {},
   "outputs": [
    {
     "data": {
      "text/plain": [
       "\"Tom sent the message: It's summer!Lets go outside\""
      ]
     },
     "execution_count": 10,
     "metadata": {},
     "output_type": "execute_result"
    }
   ],
   "source": [
    "p3=ChatApp('Tom', 'eficode', \"It's summer!Lets go outside\")\n",
    "p3._Message__status()"
   ]
  },
  {
   "cell_type": "code",
   "execution_count": null,
   "metadata": {},
   "outputs": [],
   "source": []
  }
 ],
 "metadata": {
  "kernelspec": {
   "display_name": "Python 3",
   "language": "python",
   "name": "python3"
  },
  "language_info": {
   "codemirror_mode": {
    "name": "ipython",
    "version": 3
   },
   "file_extension": ".py",
   "mimetype": "text/x-python",
   "name": "python",
   "nbconvert_exporter": "python",
   "pygments_lexer": "ipython3",
   "version": "3.7.0"
  },
  "toc": {
   "base_numbering": 1,
   "nav_menu": {},
   "number_sections": true,
   "sideBar": true,
   "skip_h1_title": false,
   "title_cell": "Table of Contents",
   "title_sidebar": "Contents",
   "toc_cell": false,
   "toc_position": {},
   "toc_section_display": true,
   "toc_window_display": false
  },
  "varInspector": {
   "cols": {
    "lenName": 16,
    "lenType": 16,
    "lenVar": 40
   },
   "kernels_config": {
    "python": {
     "delete_cmd_postfix": "",
     "delete_cmd_prefix": "del ",
     "library": "var_list.py",
     "varRefreshCmd": "print(var_dic_list())"
    },
    "r": {
     "delete_cmd_postfix": ") ",
     "delete_cmd_prefix": "rm(",
     "library": "var_list.r",
     "varRefreshCmd": "cat(var_dic_list()) "
    }
   },
   "types_to_exclude": [
    "module",
    "function",
    "builtin_function_or_method",
    "instance",
    "_Feature"
   ],
   "window_display": false
  }
 },
 "nbformat": 4,
 "nbformat_minor": 2
}
