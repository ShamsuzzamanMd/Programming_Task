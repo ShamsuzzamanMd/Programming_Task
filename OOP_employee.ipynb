{
 "cells": [
  {
   "cell_type": "code",
   "execution_count": 1,
   "metadata": {},
   "outputs": [
    {
     "name": "stdout",
     "output_type": "stream",
     "text": [
      "1\n",
      "0\n",
      "Employee name: None None\n",
      "Current rank and salary: 0 1000\n",
      "E-Mail: None.None@something.com\n",
      "Number of dances: 0\n",
      "Class <class '__main__.main.<locals>.A'> initialized.\n",
      "1\n",
      "\n",
      "        Employee is the base class for Ballerina.\n",
      "    \n",
      "\n",
      "            This is a docstring. Accessible via \"A.__doc__\"\n",
      "        \n"
     ]
    }
   ],
   "source": [
    "class Employee:\n",
    "    '''\n",
    "        Employee is the base class for Ballerina.\n",
    "    '''\n",
    "\n",
    "    num_employee = 0\n",
    "\n",
    "    def __init__(self, f_name = None, l_name = None, rank = 0, pay = 1000):\n",
    "        self.f_name = f_name\n",
    "        self.l_name = l_name\n",
    "        self.rank = rank\n",
    "        self.pay = pay\n",
    "        self.email = f'{f_name}.{l_name}@something.com'\n",
    "        self.inc_empl_count()\n",
    "\n",
    "    def is_even_day(self, day):\n",
    "        return day%2 == 0\n",
    "\n",
    "    def promote(self):\n",
    "        self.rank += 1\n",
    "\n",
    "    def raise_salary(self, pay = 0):\n",
    "        self.pay += pay\n",
    "\n",
    "    @classmethod\n",
    "    def count_employees(cls):\n",
    "        return cls.num_employee\n",
    "\n",
    "    @classmethod    \n",
    "    def inc_empl_count(cls):\n",
    "        cls.num_employee += 1\n",
    "\n",
    "    def get_email(self):\n",
    "        return self.email\n",
    "\n",
    "    def set_email(self, email):\n",
    "        self.email = email\n",
    "\n",
    "    def __repr__(self):\n",
    "        return f'Employee name: {self.f_name} {self.l_name}\\nCurrent rank and salary: {self.rank} {self.pay}\\nE-Mail: {self.email}'\n",
    "\n",
    "class Ballerina(Employee):\n",
    "    '''\n",
    "        Ballerina is the child class of Employee.\n",
    "    '''\n",
    "    def __init__(self, f_name = None, l_name = None, rank = 0, pay = 1000, dances = 0):\n",
    "        self.dances = dances\n",
    "        super(Ballerina, self).__init__(f_name, l_name, rank, pay)\n",
    "    \n",
    "    def __repr__(self):\n",
    "        return super(Ballerina, self).__repr__() + f'\\nNumber of dances: {self.dances}'\n",
    "\n",
    "\n",
    "def main():\n",
    "    '''\n",
    "        Instantiates a Ballerina which is a child clase of base class employee.\n",
    "        Outputs an example run of these objects being instantiated.\n",
    "    '''\n",
    "    b = Ballerina()\n",
    "\n",
    "    print(b.count_employees())\n",
    "    print(Employee.count_employees())\n",
    "    print(b)\n",
    "\n",
    "\n",
    "    class A(object):\n",
    "        '''\n",
    "            This is a docstring. Accessible via \"A.__doc__\"\n",
    "        '''\n",
    "        def __init__(self, test = 1):\n",
    "            print(f'Class {self.__class__} initialized.')\n",
    "            self.test = test\n",
    "\n",
    "    a = A()\n",
    "\n",
    "    for i in a.__dict__.keys():\n",
    "        print(a.__dict__[i])\n",
    "    \n",
    "    print(Employee.__doc__)\n",
    "    print(A.__doc__)\n",
    "\n",
    "\n",
    "if __name__ == \"__main__\":\n",
    "    main()"
   ]
  },
  {
   "cell_type": "code",
   "execution_count": null,
   "metadata": {},
   "outputs": [],
   "source": [
    "from collections import namedtuple\n",
    "\n",
    "class PersonalJoiner:\n",
    "    personalDetails= namedtuple('PersonalDetails',['date_of_birth'])\n",
    "    person_1_details=personalDetails(date_of_birth='09-04-1991')\n",
    "\n",
    "    person_features = namedtuple('Patient_features', ['eye_color', 'IQ_score'])\n",
    "    person_1_features = person_features(eye_color = 'Green', IQ_score = 109)\n",
    "\n",
    "    @staticmethod\n",
    "    def join(x,y):\n",
    "        \n",
    "        return\n",
    "z = PersonalJoiner.join(person_1_details, person_1_features)\n",
    "    \n",
    "\n"
   ]
  },
  {
   "cell_type": "code",
   "execution_count": null,
   "metadata": {},
   "outputs": [],
   "source": [
    "# class\n",
    "a='1'\n",
    "b='2'\n",
    "\n",
    "class stringoperations(str):\n",
    "    def"
   ]
  },
  {
   "cell_type": "code",
   "execution_count": null,
   "metadata": {},
   "outputs": [],
   "source": [
    "a=1\n",
    "a_f=1.0"
   ]
  }
 ],
 "metadata": {
  "kernelspec": {
   "display_name": "Python 3",
   "language": "python",
   "name": "python3"
  },
  "language_info": {
   "codemirror_mode": {
    "name": "ipython",
    "version": 3
   },
   "file_extension": ".py",
   "mimetype": "text/x-python",
   "name": "python",
   "nbconvert_exporter": "python",
   "pygments_lexer": "ipython3",
   "version": "3.7.0"
  },
  "toc": {
   "base_numbering": 1,
   "nav_menu": {},
   "number_sections": true,
   "sideBar": true,
   "skip_h1_title": false,
   "title_cell": "Table of Contents",
   "title_sidebar": "Contents",
   "toc_cell": false,
   "toc_position": {},
   "toc_section_display": true,
   "toc_window_display": false
  },
  "varInspector": {
   "cols": {
    "lenName": 16,
    "lenType": 16,
    "lenVar": 40
   },
   "kernels_config": {
    "python": {
     "delete_cmd_postfix": "",
     "delete_cmd_prefix": "del ",
     "library": "var_list.py",
     "varRefreshCmd": "print(var_dic_list())"
    },
    "r": {
     "delete_cmd_postfix": ") ",
     "delete_cmd_prefix": "rm(",
     "library": "var_list.r",
     "varRefreshCmd": "cat(var_dic_list()) "
    }
   },
   "types_to_exclude": [
    "module",
    "function",
    "builtin_function_or_method",
    "instance",
    "_Feature"
   ],
   "window_display": false
  }
 },
 "nbformat": 4,
 "nbformat_minor": 2
}
